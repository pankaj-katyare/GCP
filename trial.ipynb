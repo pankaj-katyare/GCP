{
 "cells": [
  {
   "cell_type": "code",
   "execution_count": 1,
   "metadata": {},
   "outputs": [
    {
     "name": "stdout",
     "output_type": "stream",
     "text": [
      "Requirement already satisfied: tensorflow==2.1 in e:\\anaconda\\lib\\site-packages (2.1.0)\n",
      "Requirement already satisfied: grpcio>=1.8.6 in e:\\anaconda\\lib\\site-packages (from tensorflow==2.1) (1.28.1)\n",
      "Requirement already satisfied: wheel>=0.26; python_version >= \"3\" in e:\\anaconda\\lib\\site-packages (from tensorflow==2.1) (0.32.3)\n",
      "Requirement already satisfied: scipy==1.4.1; python_version >= \"3\" in e:\\anaconda\\lib\\site-packages (from tensorflow==2.1) (1.4.1)\n",
      "Requirement already satisfied: numpy<2.0,>=1.16.0 in e:\\anaconda\\lib\\site-packages (from tensorflow==2.1) (1.18.2)\n",
      "Requirement already satisfied: wrapt>=1.11.1 in e:\\anaconda\\lib\\site-packages (from tensorflow==2.1) (1.11.1)\n",
      "Requirement already satisfied: absl-py>=0.7.0 in e:\\anaconda\\lib\\site-packages (from tensorflow==2.1) (0.9.0)\n",
      "Requirement already satisfied: opt-einsum>=2.3.2 in e:\\anaconda\\lib\\site-packages (from tensorflow==2.1) (3.2.0)\n",
      "Requirement already satisfied: gast==0.2.2 in e:\\anaconda\\lib\\site-packages (from tensorflow==2.1) (0.2.2)\n",
      "Requirement already satisfied: astor>=0.6.0 in e:\\anaconda\\lib\\site-packages (from tensorflow==2.1) (0.8.1)\n",
      "Requirement already satisfied: google-pasta>=0.1.6 in e:\\anaconda\\lib\\site-packages (from tensorflow==2.1) (0.2.0)\n",
      "Requirement already satisfied: protobuf>=3.8.0 in e:\\anaconda\\lib\\site-packages (from tensorflow==2.1) (3.11.3)\n",
      "Requirement already satisfied: keras-preprocessing>=1.1.0 in e:\\anaconda\\lib\\site-packages (from tensorflow==2.1) (1.1.0)\n",
      "Requirement already satisfied: termcolor>=1.1.0 in e:\\anaconda\\lib\\site-packages (from tensorflow==2.1) (1.1.0)\n",
      "Requirement already satisfied: keras-applications>=1.0.8 in e:\\anaconda\\lib\\site-packages (from tensorflow==2.1) (1.0.8)\n",
      "Requirement already satisfied: six>=1.12.0 in e:\\anaconda\\lib\\site-packages (from tensorflow==2.1) (1.12.0)\n",
      "Requirement already satisfied: tensorboard<2.2.0,>=2.1.0 in e:\\anaconda\\lib\\site-packages (from tensorflow==2.1) (2.1.1)\n",
      "Requirement already satisfied: tensorflow-estimator<2.2.0,>=2.1.0rc0 in e:\\anaconda\\lib\\site-packages (from tensorflow==2.1) (2.1.0)\n",
      "Requirement already satisfied: setuptools in e:\\anaconda\\lib\\site-packages (from protobuf>=3.8.0->tensorflow==2.1) (40.7.3)\n",
      "Requirement already satisfied: h5py in e:\\anaconda\\lib\\site-packages (from keras-applications>=1.0.8->tensorflow==2.1) (2.8.0)\n",
      "Requirement already satisfied: google-auth<2,>=1.6.3 in e:\\anaconda\\lib\\site-packages (from tensorboard<2.2.0,>=2.1.0->tensorflow==2.1) (1.13.1)\n",
      "Requirement already satisfied: requests<3,>=2.21.0 in e:\\anaconda\\lib\\site-packages (from tensorboard<2.2.0,>=2.1.0->tensorflow==2.1) (2.21.0)\n",
      "Requirement already satisfied: markdown>=2.6.8 in e:\\anaconda\\lib\\site-packages (from tensorboard<2.2.0,>=2.1.0->tensorflow==2.1) (3.2.1)\n",
      "Requirement already satisfied: werkzeug>=0.11.15 in e:\\anaconda\\lib\\site-packages (from tensorboard<2.2.0,>=2.1.0->tensorflow==2.1) (0.14.1)\n",
      "Requirement already satisfied: google-auth-oauthlib<0.5,>=0.4.1 in e:\\anaconda\\lib\\site-packages (from tensorboard<2.2.0,>=2.1.0->tensorflow==2.1) (0.4.1)\n",
      "Requirement already satisfied: pyasn1-modules>=0.2.1 in e:\\anaconda\\lib\\site-packages (from google-auth<2,>=1.6.3->tensorboard<2.2.0,>=2.1.0->tensorflow==2.1) (0.2.8)\n",
      "Requirement already satisfied: rsa<4.1,>=3.1.4 in e:\\anaconda\\lib\\site-packages (from google-auth<2,>=1.6.3->tensorboard<2.2.0,>=2.1.0->tensorflow==2.1) (4.0)\n",
      "Requirement already satisfied: cachetools<5.0,>=2.0.0 in e:\\anaconda\\lib\\site-packages (from google-auth<2,>=1.6.3->tensorboard<2.2.0,>=2.1.0->tensorflow==2.1) (4.1.0)\n",
      "Requirement already satisfied: chardet<3.1.0,>=3.0.2 in e:\\anaconda\\lib\\site-packages (from requests<3,>=2.21.0->tensorboard<2.2.0,>=2.1.0->tensorflow==2.1) (3.0.4)\n",
      "Requirement already satisfied: idna<2.9,>=2.5 in e:\\anaconda\\lib\\site-packages (from requests<3,>=2.21.0->tensorboard<2.2.0,>=2.1.0->tensorflow==2.1) (2.8)\n",
      "Requirement already satisfied: certifi>=2017.4.17 in e:\\anaconda\\lib\\site-packages (from requests<3,>=2.21.0->tensorboard<2.2.0,>=2.1.0->tensorflow==2.1) (2018.11.29)\n",
      "Requirement already satisfied: urllib3<1.25,>=1.21.1 in e:\\anaconda\\lib\\site-packages (from requests<3,>=2.21.0->tensorboard<2.2.0,>=2.1.0->tensorflow==2.1) (1.24.1)\n",
      "Requirement already satisfied: requests-oauthlib>=0.7.0 in e:\\anaconda\\lib\\site-packages (from google-auth-oauthlib<0.5,>=0.4.1->tensorboard<2.2.0,>=2.1.0->tensorflow==2.1) (1.2.0)\n",
      "Requirement already satisfied: pyasn1<0.5.0,>=0.4.6 in e:\\anaconda\\lib\\site-packages (from pyasn1-modules>=0.2.1->google-auth<2,>=1.6.3->tensorboard<2.2.0,>=2.1.0->tensorflow==2.1) (0.4.8)\n",
      "Requirement already satisfied: oauthlib>=3.0.0 in e:\\anaconda\\lib\\site-packages (from requests-oauthlib>=0.7.0->google-auth-oauthlib<0.5,>=0.4.1->tensorboard<2.2.0,>=2.1.0->tensorflow==2.1) (3.1.0)\n"
     ]
    }
   ],
   "source": [
    "!pip install tensorflow==2.1"
   ]
  },
  {
   "cell_type": "code",
   "execution_count": 4,
   "metadata": {},
   "outputs": [
    {
     "name": "stdout",
     "output_type": "stream",
     "text": [
      "2.1.0\n"
     ]
    }
   ],
   "source": [
    "import numpy as np\n",
    "import tensorflow as tf\n",
    "print(tf.__version__)"
   ]
  },
  {
   "cell_type": "code",
   "execution_count": 5,
   "metadata": {},
   "outputs": [],
   "source": [
    "users = ['Ryan','Alan']\n",
    "movies = ['Star Wars', 'The Dark Knight', 'Shrek', 'The Incredibles', 'Bleu', 'Memento']\n",
    "features = ['Action', 'Sci-Fi', 'Comedy', 'Cartoon', 'Drama']"
   ]
  },
  {
   "cell_type": "code",
   "execution_count": 6,
   "metadata": {},
   "outputs": [],
   "source": [
    "num_users = len(users)\n",
    "num_movies = len(movies)\n",
    "num_feats = len(features)\n",
    "num_recommendations = 2\n"
   ]
  },
  {
   "cell_type": "code",
   "execution_count": 7,
   "metadata": {},
   "outputs": [],
   "source": [
    "users_movies = tf.constant([\n",
    "                [2,  5, 0 ,  0, 8, 0],\n",
    "                [0,  0, 4 , 10, 8, 0]],dtype=tf.float32)"
   ]
  },
  {
   "cell_type": "code",
   "execution_count": 8,
   "metadata": {},
   "outputs": [],
   "source": [
    "movies_feats = tf.constant([\n",
    "                [1, 1, 0, 0, 1],\n",
    "                [1, 1, 0, 0, 0],\n",
    "                [0, 0, 1, 1, 0],\n",
    "                [1, 0, 1, 1, 0],\n",
    "                [0, 0, 0, 0, 1],\n",
    "                [1, 0, 0, 0, 1]],dtype=tf.float32)\n"
   ]
  },
  {
   "cell_type": "code",
   "execution_count": 9,
   "metadata": {},
   "outputs": [
    {
     "data": {
      "text/plain": [
       "<tf.Tensor: shape=(2, 5), dtype=float32, numpy=\n",
       "array([[ 7.,  7.,  0.,  0., 10.],\n",
       "       [10.,  0., 14., 14.,  8.]], dtype=float32)>"
      ]
     },
     "execution_count": 9,
     "metadata": {},
     "output_type": "execute_result"
    }
   ],
   "source": [
    "\n",
    "users_feats = tf.matmul(users_movies,movies_feats)\n",
    "users_feats"
   ]
  },
  {
   "cell_type": "code",
   "execution_count": 10,
   "metadata": {},
   "outputs": [
    {
     "data": {
      "text/plain": [
       "<tf.Tensor: shape=(2, 5), dtype=float32, numpy=\n",
       "array([[0.29166666, 0.29166666, 0.        , 0.        , 0.41666666],\n",
       "       [0.2173913 , 0.        , 0.3043478 , 0.3043478 , 0.17391305]],\n",
       "      dtype=float32)>"
      ]
     },
     "execution_count": 10,
     "metadata": {},
     "output_type": "execute_result"
    }
   ],
   "source": [
    "users_feats = users_feats/tf.reduce_sum(users_feats,axis=1,keepdims=True)\n",
    "users_feats"
   ]
  },
  {
   "cell_type": "code",
   "execution_count": 11,
   "metadata": {},
   "outputs": [
    {
     "data": {
      "text/plain": [
       "<tf.Tensor: shape=(2, 5), dtype=int32, numpy=\n",
       "array([[4, 0, 1, 2, 3],\n",
       "       [2, 3, 0, 4, 1]])>"
      ]
     },
     "execution_count": 11,
     "metadata": {},
     "output_type": "execute_result"
    }
   ],
   "source": [
    "\n",
    "top_users_features = tf.nn.top_k(users_feats, num_feats)[1]\n",
    "top_users_features"
   ]
  },
  {
   "cell_type": "code",
   "execution_count": 12,
   "metadata": {},
   "outputs": [
    {
     "name": "stdout",
     "output_type": "stream",
     "text": [
      "Ryan: ['Drama', 'Action', 'Sci-Fi', 'Comedy', 'Cartoon']\n",
      "Alan: ['Comedy', 'Cartoon', 'Action', 'Drama', 'Sci-Fi']\n"
     ]
    }
   ],
   "source": [
    "for i in range(num_users):\n",
    "    feature_names = [features[int(index)] for index in top_users_features[i]]\n",
    "    print('{}: {}'.format(users[i],feature_names))\n"
   ]
  },
  {
   "cell_type": "code",
   "execution_count": 13,
   "metadata": {},
   "outputs": [
    {
     "data": {
      "text/plain": [
       "<tf.Tensor: shape=(2, 6), dtype=float32, numpy=\n",
       "array([[1.        , 0.5833333 , 0.        , 0.29166666, 0.41666666,\n",
       "        0.7083333 ],\n",
       "       [0.39130434, 0.2173913 , 0.6086956 , 0.82608694, 0.17391305,\n",
       "        0.39130434]], dtype=float32)>"
      ]
     },
     "execution_count": 13,
     "metadata": {},
     "output_type": "execute_result"
    }
   ],
   "source": [
    "#We will use the dot product as our similarity measure. In essence, this is a weighted movie average for each user.\n",
    "\n",
    "users_ratings = tf.matmul(users_feats,tf.transpose(movies_feats))\n",
    "users_ratings"
   ]
  },
  {
   "cell_type": "code",
   "execution_count": 14,
   "metadata": {},
   "outputs": [
    {
     "data": {
      "text/plain": [
       "<tf.Tensor: shape=(2, 6), dtype=float32, numpy=\n",
       "array([[0.        , 0.        , 0.        , 0.29166666, 0.        ,\n",
       "        0.7083333 ],\n",
       "       [0.39130434, 0.2173913 , 0.        , 0.        , 0.        ,\n",
       "        0.39130434]], dtype=float32)>"
      ]
     },
     "execution_count": 14,
     "metadata": {},
     "output_type": "execute_result"
    }
   ],
   "source": [
    "#If a user has already rated a movie, we ignore that rating. This way, we only focus on ratings for previously unseen/unrated movies.\n",
    "\n",
    "users_ratings_new = tf.where(tf.equal(users_movies, tf.zeros_like(users_movies)),\n",
    "                                  users_ratings,\n",
    "                                  tf.zeros_like(tf.cast(users_movies, tf.float32)))\n",
    "users_ratings_new"
   ]
  },
  {
   "cell_type": "code",
   "execution_count": 15,
   "metadata": {},
   "outputs": [
    {
     "data": {
      "text/plain": [
       "<tf.Tensor: shape=(2, 2), dtype=int32, numpy=\n",
       "array([[5, 3],\n",
       "       [0, 5]])>"
      ]
     },
     "execution_count": 15,
     "metadata": {},
     "output_type": "execute_result"
    }
   ],
   "source": [
    "top_movies = tf.nn.top_k(users_ratings_new, num_recommendations)[1]\n",
    "top_movies"
   ]
  },
  {
   "cell_type": "code",
   "execution_count": 16,
   "metadata": {},
   "outputs": [
    {
     "name": "stdout",
     "output_type": "stream",
     "text": [
      "Ryan: ['Memento', 'The Incredibles']\n",
      "Alan: ['Star Wars', 'Memento']\n"
     ]
    }
   ],
   "source": [
    "for i in range(num_users):\n",
    "    movie_names = [movies[index] for index in top_movies[i]]\n",
    "    print('{}: {}'.format(users[i],movie_names))"
   ]
  },
  {
   "cell_type": "code",
   "execution_count": null,
   "metadata": {},
   "outputs": [],
   "source": []
  },
  {
   "cell_type": "code",
   "execution_count": null,
   "metadata": {},
   "outputs": [],
   "source": []
  }
 ],
 "metadata": {
  "kernelspec": {
   "display_name": "Python 3",
   "language": "python",
   "name": "python3"
  },
  "language_info": {
   "codemirror_mode": {
    "name": "ipython",
    "version": 3
   },
   "file_extension": ".py",
   "mimetype": "text/x-python",
   "name": "python",
   "nbconvert_exporter": "python",
   "pygments_lexer": "ipython3",
   "version": "3.6.8"
  }
 },
 "nbformat": 4,
 "nbformat_minor": 2
}
